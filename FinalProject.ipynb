{
  "nbformat": 4,
  "nbformat_minor": 0,
  "metadata": {
    "colab": {
      "provenance": [],
      "authorship_tag": "ABX9TyMKXWQOPAzzM3QND4GGCwAY"
    },
    "kernelspec": {
      "name": "python3",
      "display_name": "Python 3"
    },
    "language_info": {
      "name": "python"
    }
  },
  "cells": [
    {
      "cell_type": "code",
      "execution_count": 1,
      "metadata": {
        "id": "biIlITl5GyjF"
      },
      "outputs": [],
      "source": [
        "#import libaries\n",
        "import pandas as pd\n",
        "import numpy as np"
      ]
    },
    {
      "cell_type": "code",
      "source": [
        "#read in csv file\n",
        "cleanData = pd.read_csv(\"clean_dataset.csv\")\n",
        "print(cleanData)"
      ],
      "metadata": {
        "id": "tZWGdUrWHBuQ",
        "colab": {
          "base_uri": "https://localhost:8080/"
        },
        "outputId": "e2f023d5-f8d0-4573-b719-55268d9f37c8"
      },
      "execution_count": 3,
      "outputs": [
        {
          "output_type": "stream",
          "name": "stdout",
          "text": [
            "     Gender    Age    Debt  Married  BankCustomer         Industry Ethnicity  \\\n",
            "0         1  30.83   0.000        1             1      Industrials     White   \n",
            "1         0  58.67   4.460        1             1        Materials     Black   \n",
            "2         0  24.50   0.500        1             1        Materials     Black   \n",
            "3         1  27.83   1.540        1             1      Industrials     White   \n",
            "4         1  20.17   5.625        1             1      Industrials     White   \n",
            "..      ...    ...     ...      ...           ...              ...       ...   \n",
            "685       1  21.08  10.085        0             0        Education     Black   \n",
            "686       0  22.67   0.750        1             1           Energy     White   \n",
            "687       0  25.25  13.500        0             0       Healthcare    Latino   \n",
            "688       1  17.92   0.205        1             1  ConsumerStaples     White   \n",
            "689       1  35.00   3.375        1             1           Energy     Black   \n",
            "\n",
            "     YearsEmployed  PriorDefault  Employed  CreditScore  DriversLicense  \\\n",
            "0             1.25             1         1            1               0   \n",
            "1             3.04             1         1            6               0   \n",
            "2             1.50             1         0            0               0   \n",
            "3             3.75             1         1            5               1   \n",
            "4             1.71             1         0            0               0   \n",
            "..             ...           ...       ...          ...             ...   \n",
            "685           1.25             0         0            0               0   \n",
            "686           2.00             0         1            2               1   \n",
            "687           2.00             0         1            1               1   \n",
            "688           0.04             0         0            0               0   \n",
            "689           8.29             0         0            0               1   \n",
            "\n",
            "          Citizen  ZipCode  Income  Approved  \n",
            "0         ByBirth      202       0         1  \n",
            "1         ByBirth       43     560         1  \n",
            "2         ByBirth      280     824         1  \n",
            "3         ByBirth      100       3         1  \n",
            "4    ByOtherMeans      120       0         1  \n",
            "..            ...      ...     ...       ...  \n",
            "685       ByBirth      260       0         0  \n",
            "686       ByBirth      200     394         0  \n",
            "687       ByBirth      200       1         0  \n",
            "688       ByBirth      280     750         0  \n",
            "689       ByBirth        0       0         0  \n",
            "\n",
            "[690 rows x 16 columns]\n"
          ]
        }
      ]
    }
  ]
}