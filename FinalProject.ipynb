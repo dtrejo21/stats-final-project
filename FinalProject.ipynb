{
  "cells": [
    {
      "cell_type": "code",
      "execution_count": 1,
      "metadata": {
        "id": "biIlITl5GyjF"
      },
      "outputs": [],
      "source": [
        "# Import libaries\n",
        "import pandas as pd\n",
        "import numpy as np"
      ]
    },
    {
      "cell_type": "code",
      "execution_count": 7,
      "metadata": {
        "colab": {
          "base_uri": "https://localhost:8080/"
        },
        "id": "tZWGdUrWHBuQ",
        "outputId": "e2f023d5-f8d0-4573-b719-55268d9f37c8"
      },
      "outputs": [
        {
          "name": "stdout",
          "output_type": "stream",
          "text": [
            "     Gender    Age   Debt  Married  BankCustomer         Industry Ethnicity  \\\n",
            "0         1  30.83      0        1             1      Industrials     White   \n",
            "1         0  58.67   4460        1             1        Materials     Black   \n",
            "2         0  24.50    500        1             1        Materials     Black   \n",
            "3         1  27.83   1540        1             1      Industrials     White   \n",
            "4         1  20.17   5625        1             1      Industrials     White   \n",
            "..      ...    ...    ...      ...           ...              ...       ...   \n",
            "685       1  21.08  10085        0             0        Education     Black   \n",
            "686       0  22.67    750        1             1           Energy     White   \n",
            "687       0  25.25  13500        0             0       Healthcare    Latino   \n",
            "688       1  17.92    205        1             1  ConsumerStaples     White   \n",
            "689       1  35.00   3375        1             1           Energy     Black   \n",
            "\n",
            "     YearsEmployed  PriorDefault  Employed  CreditScore  DriversLicense  \\\n",
            "0             1.25             1         1          308               0   \n",
            "1             3.04             1         1          349               0   \n",
            "2             1.50             1         0          300               0   \n",
            "3             3.75             1         1          341               1   \n",
            "4             1.71             1         0          300               0   \n",
            "..             ...           ...       ...          ...             ...   \n",
            "685           1.25             0         0          300               0   \n",
            "686           2.00             0         1          316               1   \n",
            "687           2.00             0         1          308               1   \n",
            "688           0.04             0         0          300               0   \n",
            "689           8.29             0         0          300               1   \n",
            "\n",
            "          Citizen  ZipCode  Income  Approved  \n",
            "0         ByBirth      202       0         1  \n",
            "1         ByBirth       43     560         1  \n",
            "2         ByBirth      280     824         1  \n",
            "3         ByBirth      100       3         1  \n",
            "4    ByOtherMeans      120       0         1  \n",
            "..            ...      ...     ...       ...  \n",
            "685       ByBirth      260       0         0  \n",
            "686       ByBirth      200     394         0  \n",
            "687       ByBirth      200       1         0  \n",
            "688       ByBirth      280     750         0  \n",
            "689       ByBirth        0       0         0  \n",
            "\n",
            "[690 rows x 16 columns]\n"
          ]
        }
      ],
      "source": [
        "# Read in csv file\n",
        "cleanData = pd.read_csv(\"clean_dataset.csv\")\n",
        "\n",
        "# Scale the \"Debt\" column back to its original values and cast to int\n",
        "cleanData['CreditScore'] = cleanData['CreditScore'].apply(\n",
        "    lambda x: round(x * (850 - 300) / (67 - 0) + 300)\n",
        ").astype(int)\n",
        "\n",
        "# Scale the \"Debt\" column back to its original values\n",
        "cleanData['Debt'] = (cleanData['Debt'] * 1000).astype(int)\n",
        "\n",
        "print(cleanData)"
      ]
    }
  ],
  "metadata": {
    "colab": {
      "authorship_tag": "ABX9TyMKXWQOPAzzM3QND4GGCwAY",
      "provenance": []
    },
    "kernelspec": {
      "display_name": "Python 3",
      "name": "python3"
    },
    "language_info": {
      "codemirror_mode": {
        "name": "ipython",
        "version": 3
      },
      "file_extension": ".py",
      "mimetype": "text/x-python",
      "name": "python",
      "nbconvert_exporter": "python",
      "pygments_lexer": "ipython3",
      "version": "3.10.10"
    }
  },
  "nbformat": 4,
  "nbformat_minor": 0
}
